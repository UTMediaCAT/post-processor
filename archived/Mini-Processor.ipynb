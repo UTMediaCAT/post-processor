{
 "cells": [
  {
   "cell_type": "code",
   "execution_count": 1,
   "metadata": {
    "ExecuteTime": {
     "end_time": "2020-12-07T15:04:06.989140Z",
     "start_time": "2020-12-07T15:04:05.992166Z"
    }
   },
   "outputs": [],
   "source": [
    "import pandas as pd\n",
    "import numpy as np\n",
    "import csv"
   ]
  },
  {
   "cell_type": "code",
   "execution_count": 2,
   "metadata": {
    "ExecuteTime": {
     "end_time": "2020-12-07T15:04:07.371136Z",
     "start_time": "2020-12-07T15:04:07.367084Z"
    },
    "scrolled": true
   },
   "outputs": [],
   "source": [
    "def get_list(file):\n",
    "    \"\"\"\n",
    "    get twitter user from csv and return a list ie[\"@aaa\",\"@bbb\",\"@ccc\"]\n",
    "    :param df: a csv file\n",
    "    :rtype: a list\n",
    "    \"\"\"\n",
    "    try:\n",
    "        # try to read csv file\n",
    "        df = pd.read_csv(file)\n",
    "        name_list = df[\"Source\"].tolist()\n",
    "        tags = df[\"Tags\"].tolist()\n",
    "        return (name_list, tags)\n",
    "    except(Exception):\n",
    "        print(\"Input file is not csv or doesn't exist such csv\")\n",
    "        exit(1)\n"
   ]
  },
  {
   "cell_type": "code",
   "execution_count": 42,
   "metadata": {
    "ExecuteTime": {
     "end_time": "2020-12-04T20:19:21.598498Z",
     "start_time": "2020-12-04T20:19:20.127203Z"
    }
   },
   "outputs": [
    {
     "name": "stdout",
     "output_type": "stream",
     "text": [
      "elderofziyon\n"
     ]
    }
   ],
   "source": [
    "def mini_processor(name, tag):\n",
    "    \"\"\"\n",
    "    reshape all csvs which generate by twitter crawler,\n",
    "    :param df: a csv file\n",
    "    :rtype: None\n",
    "    \"\"\"\n",
    "    try:\n",
    "        print(name)\n",
    "        tweet = pd.read_csv(\"csv/\" +name+\".csv\", low_memory=False)\n",
    "        retweet = pd.DataFrame({'Hit Record Unique ID': tweet[\"id\"].tolist(),\n",
    "                                \"URL to article/Tweet\": tweet[\"link\"].tolist(),\n",
    "                                \"Source\": \"@\"+ name,\n",
    "                                \"Location\": tweet[\"place\"].tolist(),\n",
    "                                \"Hit Type\": \"Twitter Handle\",\n",
    "                                \"Passed through tags\": tag,        \n",
    "                                \"Associated Publisher\": np.nan,\n",
    "                                \"Referring Hit Record Unique ID\": np.nan,\n",
    "                                \"Authors\": tweet[\"name\"].tolist(),\n",
    "                                \"Plain Text of Article or Tweet\": tweet[\"tweet\"].tolist(),\n",
    "                                \"Date\": tweet[\"date\"].tolist(),\n",
    "                                \"Mentions\": tweet[\"mentions\"].tolist(),\n",
    "                                \"Hashtags\": tweet[\"hashtags\"].tolist(),\n",
    "                                \"Found URL\": tweet[\"urls\"].tolist()})\n",
    "        retweet.to_csv(\"mini/\"+ name+'.csv', index=False, quoting=csv.QUOTE_NONNUMERIC)    \n",
    "    except(Exception):\n",
    "        pass"
   ]
  },
  {
   "cell_type": "code",
   "execution_count": 43,
   "metadata": {
    "ExecuteTime": {
     "end_time": "2020-12-04T20:20:12.678686Z",
     "start_time": "2020-12-04T20:19:23.664898Z"
    }
   },
   "outputs": [
    {
     "name": "stdout",
     "output_type": "stream",
     "text": [
      "Claudia_Kealoha\n",
      "elderofziyon\n",
      "WarpedMirrorPMB\n",
      "GippersChutzpah\n",
      "Jonathan_Elk\n",
      "3moYahya\n",
      "Amani90__\n",
      "RedaMansour\n",
      "z7654321\n",
      "Amani90__\n",
      "littlebytesnews\n",
      "wisdomforwomen\n",
      "RachelSteinmetz\n",
      "IsraelNewsLinks\n",
      "BobSeaPort\n",
      "Pucemargine\n",
      "genevaaccord\n",
      "Spokoiny\n",
      "HananyaNaftali\n",
      "adambasciano\n",
      "AvivEzra\n",
      "DaniellaNLevy\n",
      "a_zionist\n",
      "IsraelandStufff\n"
     ]
    }
   ],
   "source": [
    "def pre_processer(file):\n",
    "    (list_name,tags) = get_list(file)   \n",
    "    for i in range(len(list_name)):\n",
    "        txtname = list_name[i].split('@')[1]\n",
    "        mini_processor(txtname, tags[i])\n",
    "\n",
    "if __name__ == '__main__':        \n",
    "pre_processer(\"twitter.csv\")    "
   ]
  }
 ],
 "metadata": {
  "kernelspec": {
   "display_name": "Python 3",
   "language": "python",
   "name": "python3"
  },
  "language_info": {
   "codemirror_mode": {
    "name": "ipython",
    "version": 3
   },
   "file_extension": ".py",
   "mimetype": "text/x-python",
   "name": "python",
   "nbconvert_exporter": "python",
   "pygments_lexer": "ipython3",
   "version": "3.7.4"
  },
  "varInspector": {
   "cols": {
    "lenName": 16,
    "lenType": 16,
    "lenVar": 40
   },
   "kernels_config": {
    "python": {
     "delete_cmd_postfix": "",
     "delete_cmd_prefix": "del ",
     "library": "var_list.py",
     "varRefreshCmd": "print(var_dic_list())"
    },
    "r": {
     "delete_cmd_postfix": ") ",
     "delete_cmd_prefix": "rm(",
     "library": "var_list.r",
     "varRefreshCmd": "cat(var_dic_list()) "
    }
   },
   "types_to_exclude": [
    "module",
    "function",
    "builtin_function_or_method",
    "instance",
    "_Feature"
   ],
   "window_display": false
  }
 },
 "nbformat": 4,
 "nbformat_minor": 2
}

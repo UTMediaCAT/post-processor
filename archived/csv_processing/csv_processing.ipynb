{
 "cells": [
  {
   "cell_type": "markdown",
   "id": "6b6685c2-e9ba-43d2-86fb-1a5e02240708",
   "metadata": {
    "jp-MarkdownHeadingCollapsed": true,
    "tags": []
   },
   "source": [
    "# Instructions\n",
    "- If you would like to modify this notebook, please make a copy and make your modifications there\n",
    "- Make sure to backup your notebook on your computer or on github\n"
   ]
  },
  {
   "cell_type": "markdown",
   "id": "90810f3c-9cda-408c-826b-ef7762ec0fe6",
   "metadata": {},
   "source": [
    "# Assumptions\n",
    "- All output from postprocessor is in one json file (output.json) \n",
    "- All in scope new sources are in one textfile (scope.txt)\n",
    "    - one news source per line\n",
    "- If any of these change then you would have to modify how the input is read"
   ]
  },
  {
   "cell_type": "code",
   "execution_count": 31,
   "id": "2b61a793-0491-4a1c-af8f-0eab0a6fa0fc",
   "metadata": {},
   "outputs": [],
   "source": [
    "import ijson\n",
    "import os\n",
    "import pandas as pd\n",
    "import functools\n",
    "from datetime import datetime"
   ]
  },
  {
   "cell_type": "markdown",
   "id": "d208d349-03ae-4693-bbf9-f4c442662312",
   "metadata": {},
   "source": [
    "specify scope and json file"
   ]
  },
  {
   "cell_type": "code",
   "execution_count": 32,
   "id": "cfb92ae1-c977-4c59-b9cd-e7c9ce6eafd1",
   "metadata": {},
   "outputs": [],
   "source": [
    "SCOPE ='./scope.txt'\n",
    "JSON_WITH_IDS='../../json_data/output.json'"
   ]
  },
  {
   "cell_type": "code",
   "execution_count": 33,
   "id": "7791c333-0390-474a-9268-c8764ef7b4b8",
   "metadata": {},
   "outputs": [
    {
     "name": "stdout",
     "output_type": "stream",
     "text": [
      "/media/data/jupyter-lab/bin/jupyter_notebooks/csv_processing\n"
     ]
    }
   ],
   "source": [
    "print(os.getcwd())"
   ]
  },
  {
   "cell_type": "markdown",
   "id": "b3dd1aef-1f0f-42b7-b4b5-1be87011ab28",
   "metadata": {},
   "source": [
    "open source text file and store them in the `scope` array"
   ]
  },
  {
   "cell_type": "code",
   "execution_count": 34,
   "id": "9e030016-13e7-472e-9b4f-3f4dcea02cf4",
   "metadata": {},
   "outputs": [],
   "source": [
    "# get scope from textfile\n",
    "scope = []\n",
    "f= open(SCOPE,\"r\")\n",
    "lines = f.readlines()\n",
    "for line in lines:\n",
    "    scope.append(line.replace('\\n',''))"
   ]
  },
  {
   "cell_type": "code",
   "execution_count": 35,
   "id": "dddd4039-04af-42ec-bb3a-5b571e4a7719",
   "metadata": {},
   "outputs": [
    {
     "data": {
      "text/plain": [
       "['972mag',\n",
       " 'Arutz 7 - English',\n",
       " 'Arutz 7 - Hebrew',\n",
       " 'Calcalist',\n",
       " 'Debka File - English',\n",
       " 'Debka File - Hebrew',\n",
       " 'GAZA NEWS 48',\n",
       " 'Globes',\n",
       " 'Globes - English',\n",
       " 'Haaretz - English',\n",
       " 'Haaretz - Hebrew',\n",
       " 'HaModia',\n",
       " 'Israel Hayom - English',\n",
       " 'Israel Hayom - Hebrew',\n",
       " 'Israeli Government Press Office - English',\n",
       " 'Israeli Government Press Office - Hebrew',\n",
       " 'Jerusalem Post',\n",
       " 'Jewish Ultra-Orthodox News',\n",
       " \"Ma'an News Agency\",\n",
       " 'Maariv',\n",
       " 'Makor Rishon',\n",
       " 'Nocamels',\n",
       " 'Palestine Chronicle',\n",
       " 'Palestine News Network',\n",
       " 'Shehab News Agency',\n",
       " 'Shmuel Rosner',\n",
       " 'Sikha Mekomit',\n",
       " 'The Marker',\n",
       " 'Times of Israel',\n",
       " 'Wafa (Palestinian News and Info Agency) - Arabic',\n",
       " 'Wafa (Palestinian News and Info Agency) - English',\n",
       " 'Ynet - English',\n",
       " 'Ynet - Hebrew',\n",
       " 'Yediot',\n",
       " 'Zman Israel',\n",
       " 'Mida']"
      ]
     },
     "execution_count": 35,
     "metadata": {},
     "output_type": "execute_result"
    }
   ],
   "source": [
    "scope"
   ]
  },
  {
   "cell_type": "markdown",
   "id": "24421cef-60f2-4555-accb-ba7dc277a412",
   "metadata": {},
   "source": [
    "load `output.json` as a data frame"
   ]
  },
  {
   "cell_type": "code",
   "execution_count": 36,
   "id": "1e745839-690c-409c-8123-d5a033aad999",
   "metadata": {
    "tags": []
   },
   "outputs": [],
   "source": [
    "df = pd.read_json(JSON_WITH_IDS)\n",
    "df= df.transpose()\n",
    "df.set_index('id', inplace=True)"
   ]
  },
  {
   "cell_type": "markdown",
   "id": "72116ae3-d683-4c3d-a45b-9ad74cfa885b",
   "metadata": {},
   "source": [
    "Find the rows that belong to the in scope publishers"
   ]
  },
  {
   "cell_type": "code",
   "execution_count": 37,
   "id": "b4e1a184-4af8-489d-be0d-4006f5851677",
   "metadata": {
    "tags": []
   },
   "outputs": [],
   "source": [
    "in_scope_filt = df['name/title'].isin(scope)"
   ]
  },
  {
   "cell_type": "code",
   "execution_count": 38,
   "id": "9bf4950f-46db-4888-803c-336c55f45051",
   "metadata": {},
   "outputs": [],
   "source": [
    "in_scope_df = df[in_scope_filt]"
   ]
  },
  {
   "cell_type": "markdown",
   "id": "082806af-81fa-460c-b049-72b21cf4bcc0",
   "metadata": {},
   "source": [
    "Each in scope publisher has the ids of the articles that cite it `referrig record id`\n",
    "\n",
    "For each in scope publisher row, create a row with `id` `Citation url or text alias` `Citation name/title`\n",
    "\n",
    "example\n",
    "\n",
    "lets say our in scope publishers contain `cnn.com`\n",
    "lets say `almonitor.com/news` cites `cnn.com/weather`\n",
    "the id for `almonitor.com/news` is 123\n",
    "then we have\n",
    "\n",
    "| id | Citation url or text alias | Citation name/title |\n",
    "| --- | --- | --- |\n",
    "| 123 | cnn.com/weather| cnn.com |"
   ]
  },
  {
   "cell_type": "code",
   "execution_count": 39,
   "id": "ac8108a1-6dd3-4a81-86c9-ad4bc6a9a258",
   "metadata": {
    "tags": []
   },
   "outputs": [],
   "source": [
    "citation_obj ={}\n",
    "citation_obj['id']=[]\n",
    "citation_obj['Citation url or text alias'] =[]\n",
    "citation_obj['Citation name/title'] =[]"
   ]
  },
  {
   "cell_type": "markdown",
   "id": "a5f2b4cb-bc8f-47e7-a438-1e80afd0a415",
   "metadata": {},
   "source": [
    "{\n",
    "\n",
    "    'column1':[row1col1,row2col1 ...],\n",
    "    \n",
    "    'column2':[row1col2,row2col2 ...],\n",
    "    \n",
    "    'column3':[row1col3,row2col3 ...]\n",
    "}\n"
   ]
  },
  {
   "cell_type": "code",
   "execution_count": 40,
   "id": "a3b13915-7a2a-4a2e-8983-50162e792d8a",
   "metadata": {
    "tags": []
   },
   "outputs": [],
   "source": [
    "def create_citiation_row(row):\n",
    "    ids = row['referring record id']\n",
    "    for ref_id in ids:\n",
    "        citation_obj['id'].append(ref_id)\n",
    "        citation_obj['Citation url or text alias'].append(row['url or alias text'])\n",
    "        citation_obj['Citation name/title'].append(row['name/title'])\n",
    "        "
   ]
  },
  {
   "cell_type": "code",
   "execution_count": 41,
   "id": "07bdef46-7f24-49fe-a6ed-56c6f9ba6078",
   "metadata": {},
   "outputs": [
    {
     "data": {
      "text/plain": [
       "id\n",
       "a57baf2b-0db5-5fda-a24a-fcab12ec1769    None\n",
       "e5863206-648a-593e-b91c-cabc663aaab0    None\n",
       "61885401-458c-56f4-98de-f522b349986d    None\n",
       "93e5f857-2968-5753-8b40-32d95adc52b0    None\n",
       "9e1b299e-6aa4-55ea-8d85-fe4207f7b94c    None\n",
       "                                        ... \n",
       "65c906a9-67d2-5161-acd8-ac4455743a33    None\n",
       "39676ac5-4db8-5ec7-9ce2-371726718288    None\n",
       "11a496aa-8d87-5c2b-bc8c-66e54b6de7e3    None\n",
       "8274ae94-1e8e-57a0-b37a-15b150b2f446    None\n",
       "38a65c65-738a-5a01-a628-5f318a743392    None\n",
       "Length: 30780, dtype: object"
      ]
     },
     "execution_count": 41,
     "metadata": {},
     "output_type": "execute_result"
    }
   ],
   "source": [
    "in_scope_df.apply(create_citiation_row, axis=1)"
   ]
  },
  {
   "cell_type": "markdown",
   "id": "857c1554-095f-494e-9ab6-92d0935896aa",
   "metadata": {},
   "source": [
    "Convert the python dict to a dataframe"
   ]
  },
  {
   "cell_type": "code",
   "execution_count": 42,
   "id": "dfd268ca-de02-4bcb-850f-363a1e113dbc",
   "metadata": {},
   "outputs": [],
   "source": [
    "citation_df = pd.DataFrame(citation_obj)"
   ]
  },
  {
   "cell_type": "code",
   "execution_count": 43,
   "id": "0dc54292-01a0-4e01-86ef-1c692cfcc724",
   "metadata": {},
   "outputs": [
    {
     "data": {
      "text/html": [
       "<div>\n",
       "<style scoped>\n",
       "    .dataframe tbody tr th:only-of-type {\n",
       "        vertical-align: middle;\n",
       "    }\n",
       "\n",
       "    .dataframe tbody tr th {\n",
       "        vertical-align: top;\n",
       "    }\n",
       "\n",
       "    .dataframe thead th {\n",
       "        text-align: right;\n",
       "    }\n",
       "</style>\n",
       "<table border=\"1\" class=\"dataframe\">\n",
       "  <thead>\n",
       "    <tr style=\"text-align: right;\">\n",
       "      <th></th>\n",
       "      <th>id</th>\n",
       "      <th>Citation url or text alias</th>\n",
       "      <th>Citation name/title</th>\n",
       "    </tr>\n",
       "  </thead>\n",
       "  <tbody>\n",
       "    <tr>\n",
       "      <th>0</th>\n",
       "      <td>1a4f6b47-c19b-5f89-bbc7-6f11d44c14a6_163766369...</td>\n",
       "      <td>https://www.haaretz.com/1.4717033</td>\n",
       "      <td>Haaretz - Hebrew</td>\n",
       "    </tr>\n",
       "    <tr>\n",
       "      <th>1</th>\n",
       "      <td>3a6f6126-1543-525f-a469-c4e79fe73e9e_163769889...</td>\n",
       "      <td>https://www.haaretz.com/1.4717033</td>\n",
       "      <td>Haaretz - Hebrew</td>\n",
       "    </tr>\n",
       "    <tr>\n",
       "      <th>2</th>\n",
       "      <td>1a4f6b47-c19b-5f89-bbc7-6f11d44c14a6_163766369...</td>\n",
       "      <td>https://www.haaretz.com/opinion/editorial/the-...</td>\n",
       "      <td>Haaretz - Hebrew</td>\n",
       "    </tr>\n",
       "    <tr>\n",
       "      <th>3</th>\n",
       "      <td>3a6f6126-1543-525f-a469-c4e79fe73e9e_163769889...</td>\n",
       "      <td>https://www.haaretz.com/opinion/editorial/the-...</td>\n",
       "      <td>Haaretz - Hebrew</td>\n",
       "    </tr>\n",
       "    <tr>\n",
       "      <th>4</th>\n",
       "      <td>1a4f6b47-c19b-5f89-bbc7-6f11d44c14a6_163766369...</td>\n",
       "      <td>https://www.timesofisrael.com/final-text-of-je...</td>\n",
       "      <td>Times of Israel</td>\n",
       "    </tr>\n",
       "    <tr>\n",
       "      <th>...</th>\n",
       "      <td>...</td>\n",
       "      <td>...</td>\n",
       "      <td>...</td>\n",
       "    </tr>\n",
       "    <tr>\n",
       "      <th>59232</th>\n",
       "      <td>471ddd79-1a6d-5ec1-a3d9-5c6ad389a749_163765655...</td>\n",
       "      <td>['Mida']</td>\n",
       "      <td>Mida</td>\n",
       "    </tr>\n",
       "    <tr>\n",
       "      <th>59233</th>\n",
       "      <td>dda29d96-3f47-53ae-8365-710755fcce1e_163794278...</td>\n",
       "      <td>['Mida']</td>\n",
       "      <td>Mida</td>\n",
       "    </tr>\n",
       "    <tr>\n",
       "      <th>59234</th>\n",
       "      <td>1445be27-d342-5d66-bec2-ff3401b24f5b_163769171...</td>\n",
       "      <td>['Mida']</td>\n",
       "      <td>Mida</td>\n",
       "    </tr>\n",
       "    <tr>\n",
       "      <th>59235</th>\n",
       "      <td>3f74fdb8-afd9-52b5-bc03-034a7c410136_163774852...</td>\n",
       "      <td>['Mida']</td>\n",
       "      <td>Mida</td>\n",
       "    </tr>\n",
       "    <tr>\n",
       "      <th>59236</th>\n",
       "      <td>fdd09bd5-d653-5e91-bc53-1cbf63906f14_163769171...</td>\n",
       "      <td>['Mida']</td>\n",
       "      <td>Mida</td>\n",
       "    </tr>\n",
       "  </tbody>\n",
       "</table>\n",
       "<p>59237 rows × 3 columns</p>\n",
       "</div>"
      ],
      "text/plain": [
       "                                                      id  \\\n",
       "0      1a4f6b47-c19b-5f89-bbc7-6f11d44c14a6_163766369...   \n",
       "1      3a6f6126-1543-525f-a469-c4e79fe73e9e_163769889...   \n",
       "2      1a4f6b47-c19b-5f89-bbc7-6f11d44c14a6_163766369...   \n",
       "3      3a6f6126-1543-525f-a469-c4e79fe73e9e_163769889...   \n",
       "4      1a4f6b47-c19b-5f89-bbc7-6f11d44c14a6_163766369...   \n",
       "...                                                  ...   \n",
       "59232  471ddd79-1a6d-5ec1-a3d9-5c6ad389a749_163765655...   \n",
       "59233  dda29d96-3f47-53ae-8365-710755fcce1e_163794278...   \n",
       "59234  1445be27-d342-5d66-bec2-ff3401b24f5b_163769171...   \n",
       "59235  3f74fdb8-afd9-52b5-bc03-034a7c410136_163774852...   \n",
       "59236  fdd09bd5-d653-5e91-bc53-1cbf63906f14_163769171...   \n",
       "\n",
       "                              Citation url or text alias Citation name/title  \n",
       "0                      https://www.haaretz.com/1.4717033    Haaretz - Hebrew  \n",
       "1                      https://www.haaretz.com/1.4717033    Haaretz - Hebrew  \n",
       "2      https://www.haaretz.com/opinion/editorial/the-...    Haaretz - Hebrew  \n",
       "3      https://www.haaretz.com/opinion/editorial/the-...    Haaretz - Hebrew  \n",
       "4      https://www.timesofisrael.com/final-text-of-je...     Times of Israel  \n",
       "...                                                  ...                 ...  \n",
       "59232                                           ['Mida']                Mida  \n",
       "59233                                           ['Mida']                Mida  \n",
       "59234                                           ['Mida']                Mida  \n",
       "59235                                           ['Mida']                Mida  \n",
       "59236                                           ['Mida']                Mida  \n",
       "\n",
       "[59237 rows x 3 columns]"
      ]
     },
     "execution_count": 43,
     "metadata": {},
     "output_type": "execute_result"
    }
   ],
   "source": [
    "citation_df"
   ]
  },
  {
   "cell_type": "markdown",
   "id": "103f2090-f007-4635-b898-bcbdb6831bc1",
   "metadata": {},
   "source": [
    "# Aggregate results to one row\n",
    "- if you dont want the output in this format you can remove all the code blocks untill the Seperate Rows section"
   ]
  },
  {
   "cell_type": "markdown",
   "id": "8b99f07b-4410-4273-800f-09a9b474d624",
   "metadata": {},
   "source": [
    "ids will repeat since each site could have cited multiple sources\n",
    "\n",
    "so first group rows with the same ids together"
   ]
  },
  {
   "cell_type": "code",
   "execution_count": 44,
   "id": "b02f1669-e47b-4353-a7bb-226fa47a2748",
   "metadata": {},
   "outputs": [],
   "source": [
    "cg = citation_df.groupby(['id'])"
   ]
  },
  {
   "cell_type": "code",
   "execution_count": 45,
   "id": "4962c269-901e-4645-a763-9c0e7e923ab9",
   "metadata": {},
   "outputs": [],
   "source": [
    "def test_agg(row):\n",
    "    return row.tolist()"
   ]
  },
  {
   "cell_type": "markdown",
   "id": "3b74b6bc-b744-4f04-bf09-8f17516d0ac4",
   "metadata": {},
   "source": [
    "this merges the group rows in to a list. The `name/title` and the corresponding `url or text alias` have the same index in their corresponding lists. \n",
    "\n",
    "example\n",
    "so if ` ynetnews.com/weather` is at index 0 in `url or text alias` then its corresponding `name/title` will also be at index 0\n",
    "\n",
    "`[ynetnews.com/weather, ... ,cnn.com/news]`\n",
    "\n",
    "`[Ynet-english, ..., cnn]`"
   ]
  },
  {
   "cell_type": "code",
   "execution_count": 46,
   "id": "3a811aa3-6a1b-40c3-9bb7-3bbfa2d56706",
   "metadata": {},
   "outputs": [],
   "source": [
    "cg =cg.agg(test_agg)"
   ]
  },
  {
   "cell_type": "code",
   "execution_count": 47,
   "id": "ffd16764-7111-47f7-91b3-a9ce26e30fd2",
   "metadata": {},
   "outputs": [
    {
     "data": {
      "text/html": [
       "<div>\n",
       "<style scoped>\n",
       "    .dataframe tbody tr th:only-of-type {\n",
       "        vertical-align: middle;\n",
       "    }\n",
       "\n",
       "    .dataframe tbody tr th {\n",
       "        vertical-align: top;\n",
       "    }\n",
       "\n",
       "    .dataframe thead th {\n",
       "        text-align: right;\n",
       "    }\n",
       "</style>\n",
       "<table border=\"1\" class=\"dataframe\">\n",
       "  <thead>\n",
       "    <tr style=\"text-align: right;\">\n",
       "      <th></th>\n",
       "      <th>Citation url or text alias</th>\n",
       "      <th>Citation name/title</th>\n",
       "    </tr>\n",
       "    <tr>\n",
       "      <th>id</th>\n",
       "      <th></th>\n",
       "      <th></th>\n",
       "    </tr>\n",
       "  </thead>\n",
       "  <tbody>\n",
       "    <tr>\n",
       "      <th>00019674-4c75-5e34-b986-1ce7be52b203_1637685489472</th>\n",
       "      <td>[http://www.ynetnews.com/articles/0,7340,L-487...</td>\n",
       "      <td>[Ynet - English, Haaretz - Hebrew]</td>\n",
       "    </tr>\n",
       "    <tr>\n",
       "      <th>00087cb1-7ace-5198-89f7-18718b58a9fb_1637714464291</th>\n",
       "      <td>[http://www.israelhayom.co.il/article/380549, ...</td>\n",
       "      <td>[Israel Hayom - Hebrew, Israel Hayom - English]</td>\n",
       "    </tr>\n",
       "    <tr>\n",
       "      <th>000a3d12-ef18-5a77-af56-1a4728e64149_1637651049516</th>\n",
       "      <td>[https://www.inn.co.il/News/News.aspx/363030, ...</td>\n",
       "      <td>[Arutz 7 - Hebrew, Israel Hayom - Hebrew, Maar...</td>\n",
       "    </tr>\n",
       "    <tr>\n",
       "      <th>0013dc9f-3521-5d2a-b0dd-816b719d2616_1637753174805</th>\n",
       "      <td>[http://www.timesofisrael.com/idf-bat-ayin-res...</td>\n",
       "      <td>[Times of Israel, Times of Israel, Jerusalem P...</td>\n",
       "    </tr>\n",
       "    <tr>\n",
       "      <th>001b831e-050f-5abd-9387-499f563c74ba_1637616878941</th>\n",
       "      <td>[https://www.haaretz.co.il/news/politics/.prem...</td>\n",
       "      <td>[Haaretz - Hebrew]</td>\n",
       "    </tr>\n",
       "    <tr>\n",
       "      <th>...</th>\n",
       "      <td>...</td>\n",
       "      <td>...</td>\n",
       "    </tr>\n",
       "    <tr>\n",
       "      <th>fff73490-7acc-5684-8671-68f6d5c0b202_1637941524916</th>\n",
       "      <td>[http://www.maannews.net/Content.aspx?id=897809]</td>\n",
       "      <td>[Ma'an News Agency]</td>\n",
       "    </tr>\n",
       "    <tr>\n",
       "      <th>fff77c24-8761-5a9b-a13e-9420d0cb44b4_1638056548822</th>\n",
       "      <td>[http://www.jpost.com/landedpages/printarticle...</td>\n",
       "      <td>[Jerusalem Post, Jerusalem Post, Arutz 7 - Eng...</td>\n",
       "    </tr>\n",
       "    <tr>\n",
       "      <th>fffd690b-855d-5519-92d0-100636ab7f9f_1637887377946</th>\n",
       "      <td>[http://www.haaretz.co.il/literature/poetry/.p...</td>\n",
       "      <td>[Haaretz - Hebrew, Maariv, Haaretz - Hebrew]</td>\n",
       "    </tr>\n",
       "    <tr>\n",
       "      <th>fffef688-731c-5745-a194-5650a7927ea6_1638053334949</th>\n",
       "      <td>[['הארץ']]</td>\n",
       "      <td>[Haaretz - Hebrew]</td>\n",
       "    </tr>\n",
       "    <tr>\n",
       "      <th>ffffc178-8f83-5e0f-bdb1-49ead8a0cc32_1637731766561</th>\n",
       "      <td>[https://www.makorrishon.co.il/news/96403/, ht...</td>\n",
       "      <td>[Makor Rishon, Haaretz - Hebrew, Ynet - Hebrew]</td>\n",
       "    </tr>\n",
       "  </tbody>\n",
       "</table>\n",
       "<p>19326 rows × 2 columns</p>\n",
       "</div>"
      ],
      "text/plain": [
       "                                                                           Citation url or text alias  \\\n",
       "id                                                                                                      \n",
       "00019674-4c75-5e34-b986-1ce7be52b203_1637685489472  [http://www.ynetnews.com/articles/0,7340,L-487...   \n",
       "00087cb1-7ace-5198-89f7-18718b58a9fb_1637714464291  [http://www.israelhayom.co.il/article/380549, ...   \n",
       "000a3d12-ef18-5a77-af56-1a4728e64149_1637651049516  [https://www.inn.co.il/News/News.aspx/363030, ...   \n",
       "0013dc9f-3521-5d2a-b0dd-816b719d2616_1637753174805  [http://www.timesofisrael.com/idf-bat-ayin-res...   \n",
       "001b831e-050f-5abd-9387-499f563c74ba_1637616878941  [https://www.haaretz.co.il/news/politics/.prem...   \n",
       "...                                                                                               ...   \n",
       "fff73490-7acc-5684-8671-68f6d5c0b202_1637941524916   [http://www.maannews.net/Content.aspx?id=897809]   \n",
       "fff77c24-8761-5a9b-a13e-9420d0cb44b4_1638056548822  [http://www.jpost.com/landedpages/printarticle...   \n",
       "fffd690b-855d-5519-92d0-100636ab7f9f_1637887377946  [http://www.haaretz.co.il/literature/poetry/.p...   \n",
       "fffef688-731c-5745-a194-5650a7927ea6_1638053334949                                         [['הארץ']]   \n",
       "ffffc178-8f83-5e0f-bdb1-49ead8a0cc32_1637731766561  [https://www.makorrishon.co.il/news/96403/, ht...   \n",
       "\n",
       "                                                                                  Citation name/title  \n",
       "id                                                                                                     \n",
       "00019674-4c75-5e34-b986-1ce7be52b203_1637685489472                 [Ynet - English, Haaretz - Hebrew]  \n",
       "00087cb1-7ace-5198-89f7-18718b58a9fb_1637714464291    [Israel Hayom - Hebrew, Israel Hayom - English]  \n",
       "000a3d12-ef18-5a77-af56-1a4728e64149_1637651049516  [Arutz 7 - Hebrew, Israel Hayom - Hebrew, Maar...  \n",
       "0013dc9f-3521-5d2a-b0dd-816b719d2616_1637753174805  [Times of Israel, Times of Israel, Jerusalem P...  \n",
       "001b831e-050f-5abd-9387-499f563c74ba_1637616878941                                 [Haaretz - Hebrew]  \n",
       "...                                                                                               ...  \n",
       "fff73490-7acc-5684-8671-68f6d5c0b202_1637941524916                                [Ma'an News Agency]  \n",
       "fff77c24-8761-5a9b-a13e-9420d0cb44b4_1638056548822  [Jerusalem Post, Jerusalem Post, Arutz 7 - Eng...  \n",
       "fffd690b-855d-5519-92d0-100636ab7f9f_1637887377946       [Haaretz - Hebrew, Maariv, Haaretz - Hebrew]  \n",
       "fffef688-731c-5745-a194-5650a7927ea6_1638053334949                                 [Haaretz - Hebrew]  \n",
       "ffffc178-8f83-5e0f-bdb1-49ead8a0cc32_1637731766561    [Makor Rishon, Haaretz - Hebrew, Ynet - Hebrew]  \n",
       "\n",
       "[19326 rows x 2 columns]"
      ]
     },
     "execution_count": 47,
     "metadata": {},
     "output_type": "execute_result"
    }
   ],
   "source": [
    "cg"
   ]
  },
  {
   "cell_type": "markdown",
   "id": "7d0dfa77-34f6-4759-8269-1ed20f7116b6",
   "metadata": {},
   "source": [
    "next we append these columns to the original data frame"
   ]
  },
  {
   "cell_type": "code",
   "execution_count": 48,
   "id": "c6ef7114-109c-4e2f-915c-b45d4550e1bf",
   "metadata": {},
   "outputs": [],
   "source": [
    "result = pd.concat([df,cg], axis='columns')"
   ]
  },
  {
   "cell_type": "markdown",
   "id": "29a83f8d-2bf3-441b-bfb8-018130575f10",
   "metadata": {},
   "source": [
    "Then we get rid of any rows where the `Citation name/title` is na. These rows do not cite the sources in our scope"
   ]
  },
  {
   "cell_type": "code",
   "execution_count": 49,
   "id": "fc535a1d-8437-432c-b98c-8aabdf65b15c",
   "metadata": {},
   "outputs": [],
   "source": [
    "filt_nan_citation = ~result['Citation name/title'].isna()"
   ]
  },
  {
   "cell_type": "code",
   "execution_count": 50,
   "id": "f6742e0b-c1de-490c-bdaa-4d73113389e2",
   "metadata": {},
   "outputs": [
    {
     "data": {
      "text/html": [
       "<div>\n",
       "<style scoped>\n",
       "    .dataframe tbody tr th:only-of-type {\n",
       "        vertical-align: middle;\n",
       "    }\n",
       "\n",
       "    .dataframe tbody tr th {\n",
       "        vertical-align: top;\n",
       "    }\n",
       "\n",
       "    .dataframe thead th {\n",
       "        text-align: right;\n",
       "    }\n",
       "</style>\n",
       "<table border=\"1\" class=\"dataframe\">\n",
       "  <thead>\n",
       "    <tr style=\"text-align: right;\">\n",
       "      <th></th>\n",
       "      <th>referring record id</th>\n",
       "      <th>url or alias text</th>\n",
       "      <th>Citation url or text alias</th>\n",
       "      <th>Citation name/title</th>\n",
       "    </tr>\n",
       "  </thead>\n",
       "  <tbody>\n",
       "    <tr>\n",
       "      <th>a6894d63-4229-516c-98fd-9118b186db39_1637772841749</th>\n",
       "      <td>[b92089ac-1305-58a2-843e-ee6ca8a58d95_16377315...</td>\n",
       "      <td>https://www.al-monitor.com/pulse/originals/202...</td>\n",
       "      <td>[https://www.timesofisrael.com/court-rules-all...</td>\n",
       "      <td>[Times of Israel, Ynet - English, Times of Isr...</td>\n",
       "    </tr>\n",
       "    <tr>\n",
       "      <th>b539cdfe-51c4-5adb-ab30-095e0f9904f6_1637657855324</th>\n",
       "      <td>[bec162ed-b70a-5699-bac4-c0dcbfd404d0_16376231...</td>\n",
       "      <td>https://www.al-monitor.com/originals/2019/10/i...</td>\n",
       "      <td>[https://www.israelhayom.com/2019/09/19/pm-can...</td>\n",
       "      <td>[Israel Hayom - Hebrew, Arutz 7 - English, Tim...</td>\n",
       "    </tr>\n",
       "    <tr>\n",
       "      <th>989935fe-ff58-5257-8c6f-40abc05b2f00_1637643663241</th>\n",
       "      <td>[16b9d86a-a3cd-517e-aa08-257f3893d004_16376106...</td>\n",
       "      <td>https://www.al-monitor.com/iw/contents/article...</td>\n",
       "      <td>[https://www.ynet.co.il/articles/0,7340,L-5480...</td>\n",
       "      <td>[Ynet - Hebrew, Ynet - Hebrew, Maariv, Maariv,...</td>\n",
       "    </tr>\n",
       "    <tr>\n",
       "      <th>054c7bb3-6c7a-5907-8a9f-3350027bc390_1637875112565</th>\n",
       "      <td>[37371f3f-09d7-5c4e-8af2-257751327e2e_16381411...</td>\n",
       "      <td>https://www.al-monitor.com/originals/2016/12/i...</td>\n",
       "      <td>[http://www.ynetnews.com/articles/0,7340,L-470...</td>\n",
       "      <td>[Ynet - English]</td>\n",
       "    </tr>\n",
       "    <tr>\n",
       "      <th>e42efeeb-6e64-5434-82e3-a372296b384d_1637753863714</th>\n",
       "      <td>[5ef81516-229d-5a6b-97bd-dac7bb4d96af_16376976...</td>\n",
       "      <td>https://www.al-monitor.com/pulse/originals/201...</td>\n",
       "      <td>[http://info.wafa.ps/atemplate.aspx?id=3458, h...</td>\n",
       "      <td>[Wafa (Palestinian News and Info Agency) - Eng...</td>\n",
       "    </tr>\n",
       "    <tr>\n",
       "      <th>...</th>\n",
       "      <td>...</td>\n",
       "      <td>...</td>\n",
       "      <td>...</td>\n",
       "      <td>...</td>\n",
       "    </tr>\n",
       "    <tr>\n",
       "      <th>302017e6-5617-5431-ad67-b9239da5aaac_1637877485501</th>\n",
       "      <td>[c618a31f-24ac-56a8-8361-b8c2bcdab95f_16380479...</td>\n",
       "      <td>https://www.al-monitor.com/originals/2014/04/i...</td>\n",
       "      <td>[http://www.ynetnews.com/articles/0,7340,L-447...</td>\n",
       "      <td>[Ynet - English, Jerusalem Post, Jerusalem Post]</td>\n",
       "    </tr>\n",
       "    <tr>\n",
       "      <th>70652b7e-8971-57bb-9f5d-a40952f8ba9a_1637641792565</th>\n",
       "      <td>[6ff8c71b-82a3-5198-a4b6-c0f15048484b_16376418...</td>\n",
       "      <td>https://www.al-monitor.com/pulse/originals/201...</td>\n",
       "      <td>[https://www.ynetnews.com/articles/0,7340,L-50...</td>\n",
       "      <td>[Ynet - English, Times of Israel]</td>\n",
       "    </tr>\n",
       "    <tr>\n",
       "      <th>9063a02e-483f-59b4-8432-65efb3d00e62_1637960508147</th>\n",
       "      <td>[5a597bfc-5dfa-5243-8f0f-d3e9d8cf602e_16379522...</td>\n",
       "      <td>https://www.al-monitor.com/iw/contents/article...</td>\n",
       "      <td>[http://www.ynet.co.il/articles/0,7340,L-48260...</td>\n",
       "      <td>[Ynet - Hebrew, Haaretz - Hebrew]</td>\n",
       "    </tr>\n",
       "    <tr>\n",
       "      <th>4f704222-87ad-5505-be5f-e324da9450c4_1638060651441</th>\n",
       "      <td>[11b993d3-dd4b-5aae-b3aa-1cd9865bf026_16380607...</td>\n",
       "      <td>https://www.al-monitor.com/originals/2013/05/n...</td>\n",
       "      <td>[http://www.haaretz.com/news/national/netanyah...</td>\n",
       "      <td>[Haaretz - Hebrew, Ynet - English, Haaretz - E...</td>\n",
       "    </tr>\n",
       "    <tr>\n",
       "      <th>de6b856a-b078-5740-b7d3-f09f9127554a_1638052434725</th>\n",
       "      <td>[6ac8277a-2a1e-57e6-b30a-8d25cc48ce2e_16380526...</td>\n",
       "      <td>https://www.al-monitor.com/originals/2016/02/g...</td>\n",
       "      <td>[http://www.inn.co.il/News/News.aspx/287388, h...</td>\n",
       "      <td>[Arutz 7 - Hebrew, Maariv, Arutz 7 - English, ...</td>\n",
       "    </tr>\n",
       "  </tbody>\n",
       "</table>\n",
       "<p>19326 rows × 4 columns</p>\n",
       "</div>"
      ],
      "text/plain": [
       "                                                                                  referring record id  \\\n",
       "a6894d63-4229-516c-98fd-9118b186db39_1637772841749  [b92089ac-1305-58a2-843e-ee6ca8a58d95_16377315...   \n",
       "b539cdfe-51c4-5adb-ab30-095e0f9904f6_1637657855324  [bec162ed-b70a-5699-bac4-c0dcbfd404d0_16376231...   \n",
       "989935fe-ff58-5257-8c6f-40abc05b2f00_1637643663241  [16b9d86a-a3cd-517e-aa08-257f3893d004_16376106...   \n",
       "054c7bb3-6c7a-5907-8a9f-3350027bc390_1637875112565  [37371f3f-09d7-5c4e-8af2-257751327e2e_16381411...   \n",
       "e42efeeb-6e64-5434-82e3-a372296b384d_1637753863714  [5ef81516-229d-5a6b-97bd-dac7bb4d96af_16376976...   \n",
       "...                                                                                               ...   \n",
       "302017e6-5617-5431-ad67-b9239da5aaac_1637877485501  [c618a31f-24ac-56a8-8361-b8c2bcdab95f_16380479...   \n",
       "70652b7e-8971-57bb-9f5d-a40952f8ba9a_1637641792565  [6ff8c71b-82a3-5198-a4b6-c0f15048484b_16376418...   \n",
       "9063a02e-483f-59b4-8432-65efb3d00e62_1637960508147  [5a597bfc-5dfa-5243-8f0f-d3e9d8cf602e_16379522...   \n",
       "4f704222-87ad-5505-be5f-e324da9450c4_1638060651441  [11b993d3-dd4b-5aae-b3aa-1cd9865bf026_16380607...   \n",
       "de6b856a-b078-5740-b7d3-f09f9127554a_1638052434725  [6ac8277a-2a1e-57e6-b30a-8d25cc48ce2e_16380526...   \n",
       "\n",
       "                                                                                    url or alias text  \\\n",
       "a6894d63-4229-516c-98fd-9118b186db39_1637772841749  https://www.al-monitor.com/pulse/originals/202...   \n",
       "b539cdfe-51c4-5adb-ab30-095e0f9904f6_1637657855324  https://www.al-monitor.com/originals/2019/10/i...   \n",
       "989935fe-ff58-5257-8c6f-40abc05b2f00_1637643663241  https://www.al-monitor.com/iw/contents/article...   \n",
       "054c7bb3-6c7a-5907-8a9f-3350027bc390_1637875112565  https://www.al-monitor.com/originals/2016/12/i...   \n",
       "e42efeeb-6e64-5434-82e3-a372296b384d_1637753863714  https://www.al-monitor.com/pulse/originals/201...   \n",
       "...                                                                                               ...   \n",
       "302017e6-5617-5431-ad67-b9239da5aaac_1637877485501  https://www.al-monitor.com/originals/2014/04/i...   \n",
       "70652b7e-8971-57bb-9f5d-a40952f8ba9a_1637641792565  https://www.al-monitor.com/pulse/originals/201...   \n",
       "9063a02e-483f-59b4-8432-65efb3d00e62_1637960508147  https://www.al-monitor.com/iw/contents/article...   \n",
       "4f704222-87ad-5505-be5f-e324da9450c4_1638060651441  https://www.al-monitor.com/originals/2013/05/n...   \n",
       "de6b856a-b078-5740-b7d3-f09f9127554a_1638052434725  https://www.al-monitor.com/originals/2016/02/g...   \n",
       "\n",
       "                                                                           Citation url or text alias  \\\n",
       "a6894d63-4229-516c-98fd-9118b186db39_1637772841749  [https://www.timesofisrael.com/court-rules-all...   \n",
       "b539cdfe-51c4-5adb-ab30-095e0f9904f6_1637657855324  [https://www.israelhayom.com/2019/09/19/pm-can...   \n",
       "989935fe-ff58-5257-8c6f-40abc05b2f00_1637643663241  [https://www.ynet.co.il/articles/0,7340,L-5480...   \n",
       "054c7bb3-6c7a-5907-8a9f-3350027bc390_1637875112565  [http://www.ynetnews.com/articles/0,7340,L-470...   \n",
       "e42efeeb-6e64-5434-82e3-a372296b384d_1637753863714  [http://info.wafa.ps/atemplate.aspx?id=3458, h...   \n",
       "...                                                                                               ...   \n",
       "302017e6-5617-5431-ad67-b9239da5aaac_1637877485501  [http://www.ynetnews.com/articles/0,7340,L-447...   \n",
       "70652b7e-8971-57bb-9f5d-a40952f8ba9a_1637641792565  [https://www.ynetnews.com/articles/0,7340,L-50...   \n",
       "9063a02e-483f-59b4-8432-65efb3d00e62_1637960508147  [http://www.ynet.co.il/articles/0,7340,L-48260...   \n",
       "4f704222-87ad-5505-be5f-e324da9450c4_1638060651441  [http://www.haaretz.com/news/national/netanyah...   \n",
       "de6b856a-b078-5740-b7d3-f09f9127554a_1638052434725  [http://www.inn.co.il/News/News.aspx/287388, h...   \n",
       "\n",
       "                                                                                  Citation name/title  \n",
       "a6894d63-4229-516c-98fd-9118b186db39_1637772841749  [Times of Israel, Ynet - English, Times of Isr...  \n",
       "b539cdfe-51c4-5adb-ab30-095e0f9904f6_1637657855324  [Israel Hayom - Hebrew, Arutz 7 - English, Tim...  \n",
       "989935fe-ff58-5257-8c6f-40abc05b2f00_1637643663241  [Ynet - Hebrew, Ynet - Hebrew, Maariv, Maariv,...  \n",
       "054c7bb3-6c7a-5907-8a9f-3350027bc390_1637875112565                                   [Ynet - English]  \n",
       "e42efeeb-6e64-5434-82e3-a372296b384d_1637753863714  [Wafa (Palestinian News and Info Agency) - Eng...  \n",
       "...                                                                                               ...  \n",
       "302017e6-5617-5431-ad67-b9239da5aaac_1637877485501   [Ynet - English, Jerusalem Post, Jerusalem Post]  \n",
       "70652b7e-8971-57bb-9f5d-a40952f8ba9a_1637641792565                  [Ynet - English, Times of Israel]  \n",
       "9063a02e-483f-59b4-8432-65efb3d00e62_1637960508147                  [Ynet - Hebrew, Haaretz - Hebrew]  \n",
       "4f704222-87ad-5505-be5f-e324da9450c4_1638060651441  [Haaretz - Hebrew, Ynet - English, Haaretz - E...  \n",
       "de6b856a-b078-5740-b7d3-f09f9127554a_1638052434725  [Arutz 7 - Hebrew, Maariv, Arutz 7 - English, ...  \n",
       "\n",
       "[19326 rows x 4 columns]"
      ]
     },
     "execution_count": 50,
     "metadata": {},
     "output_type": "execute_result"
    }
   ],
   "source": [
    "result[filt_nan_citation][['referring record id','url or alias text','Citation url or text alias','Citation name/title']]"
   ]
  },
  {
   "cell_type": "markdown",
   "id": "30798e1f-bc40-4f25-92a6-c006357b5821",
   "metadata": {},
   "source": [
    "# Results on seperate rows instead of aggregating"
   ]
  },
  {
   "cell_type": "markdown",
   "id": "c6442100-774f-4937-aab5-177aee55de6a",
   "metadata": {},
   "source": [
    "reset the index so that `id` isn't an index"
   ]
  },
  {
   "cell_type": "code",
   "execution_count": 51,
   "id": "fcc98a53-64c8-4d54-ab8a-7936182d595e",
   "metadata": {},
   "outputs": [],
   "source": [
    "df = df.reset_index()"
   ]
  },
  {
   "cell_type": "markdown",
   "id": "ac09f252-45ce-41e3-af19-3178d6219753",
   "metadata": {},
   "source": [
    "join citation_df and df on id. This is equivalent to an SQL Inner JOIN on `id`"
   ]
  },
  {
   "cell_type": "code",
   "execution_count": 52,
   "id": "a7f88aa2-71e8-45e8-96bb-5ea3195eb4a0",
   "metadata": {
    "tags": []
   },
   "outputs": [],
   "source": [
    "merged = citation_df.merge(df, on='id', how='inner', suffixes=('_url_citation_df','_df'))"
   ]
  },
  {
   "cell_type": "markdown",
   "id": "9c8bfa42-f451-446d-a061-dba17bd34ec1",
   "metadata": {},
   "source": [
    "move `Citation url or text alias` and `Citation name/title` to the back"
   ]
  },
  {
   "cell_type": "code",
   "execution_count": 53,
   "id": "6a8639ec-6dc7-4583-816d-d0a9b62b450d",
   "metadata": {},
   "outputs": [],
   "source": [
    "merged['Citation url or text alias'], merged['Citation name/title'] = merged.pop('Citation url or text alias'), merged.pop('Citation name/title')"
   ]
  },
  {
   "cell_type": "markdown",
   "id": "400a19ad-bfb7-42f0-859c-2749baf0220e",
   "metadata": {},
   "source": [
    "# Make any data manipulations here\n",
    "- make any modifications to `merged` here\n",
    "- ensure the final variable name is `merged_final`\n",
    "- see `/juputer_notebooks/utils` for examples"
   ]
  },
  {
   "cell_type": "markdown",
   "id": "5e81c082-018d-4ed5-b27f-0f76f513c02f",
   "metadata": {},
   "source": [
    "finally sort by `url or alias text'`"
   ]
  },
  {
   "cell_type": "code",
   "execution_count": 54,
   "id": "3603185f-aa1a-4915-ab53-7233dd8733d0",
   "metadata": {
    "tags": []
   },
   "outputs": [],
   "source": [
    "merged_final = merged.sort_values(by=['url or alias text'])"
   ]
  },
  {
   "cell_type": "code",
   "execution_count": 55,
   "id": "1aab2d53-6cdc-42ff-a442-4f102991188b",
   "metadata": {},
   "outputs": [
    {
     "data": {
      "text/html": [
       "<div>\n",
       "<style scoped>\n",
       "    .dataframe tbody tr th:only-of-type {\n",
       "        vertical-align: middle;\n",
       "    }\n",
       "\n",
       "    .dataframe tbody tr th {\n",
       "        vertical-align: top;\n",
       "    }\n",
       "\n",
       "    .dataframe thead th {\n",
       "        text-align: right;\n",
       "    }\n",
       "</style>\n",
       "<table border=\"1\" class=\"dataframe\">\n",
       "  <thead>\n",
       "    <tr style=\"text-align: right;\">\n",
       "      <th></th>\n",
       "      <th>id</th>\n",
       "      <th>url or alias text</th>\n",
       "      <th>referring record id</th>\n",
       "      <th>number of referrals</th>\n",
       "      <th>type</th>\n",
       "      <th>associated publisher</th>\n",
       "      <th>tags</th>\n",
       "      <th>name/title</th>\n",
       "      <th>language</th>\n",
       "      <th>authors</th>\n",
       "      <th>date of publication</th>\n",
       "      <th>plain text</th>\n",
       "      <th>image reference</th>\n",
       "      <th>anchor text</th>\n",
       "      <th>Citation url or text alias</th>\n",
       "      <th>Citation name/title</th>\n",
       "    </tr>\n",
       "  </thead>\n",
       "  <tbody>\n",
       "    <tr>\n",
       "      <th>42603</th>\n",
       "      <td>9c962cc3-5789-58b1-bb48-759c9e235bf6_163766583...</td>\n",
       "      <td>https://www.al-monitor.com/afp/2017/02/israel-...</td>\n",
       "      <td>[2425ef51-6da9-5af7-991a-0526c0f44c37_16376316...</td>\n",
       "      <td>1</td>\n",
       "      <td>article</td>\n",
       "      <td>Al-Monitor</td>\n",
       "      <td>[International, Referring, , United States, NA...</td>\n",
       "      <td>Al-Monitor</td>\n",
       "      <td></td>\n",
       "      <td>Ben Caspit\\n  \\n\\n  \\n          @BenCaspit</td>\n",
       "      <td></td>\n",
       "      <td>Pfizer CEO Albert Bourla couldn't have dreamed...</td>\n",
       "      <td></td>\n",
       "      <td></td>\n",
       "      <td>https://www.timesofisrael.com/negative-tests-w...</td>\n",
       "      <td>Times of Israel</td>\n",
       "    </tr>\n",
       "    <tr>\n",
       "      <th>42602</th>\n",
       "      <td>9c962cc3-5789-58b1-bb48-759c9e235bf6_163766583...</td>\n",
       "      <td>https://www.al-monitor.com/afp/2017/02/israel-...</td>\n",
       "      <td>[2425ef51-6da9-5af7-991a-0526c0f44c37_16376316...</td>\n",
       "      <td>1</td>\n",
       "      <td>article</td>\n",
       "      <td>Al-Monitor</td>\n",
       "      <td>[International, Referring, , United States, NA...</td>\n",
       "      <td>Al-Monitor</td>\n",
       "      <td></td>\n",
       "      <td>Ben Caspit\\n  \\n\\n  \\n          @BenCaspit</td>\n",
       "      <td></td>\n",
       "      <td>Pfizer CEO Albert Bourla couldn't have dreamed...</td>\n",
       "      <td></td>\n",
       "      <td></td>\n",
       "      <td>http://www.timesofisrael.com/netanyahu-on-covi...</td>\n",
       "      <td>Times of Israel</td>\n",
       "    </tr>\n",
       "    <tr>\n",
       "      <th>42601</th>\n",
       "      <td>9c962cc3-5789-58b1-bb48-759c9e235bf6_163766583...</td>\n",
       "      <td>https://www.al-monitor.com/afp/2017/02/israel-...</td>\n",
       "      <td>[2425ef51-6da9-5af7-991a-0526c0f44c37_16376316...</td>\n",
       "      <td>1</td>\n",
       "      <td>article</td>\n",
       "      <td>Al-Monitor</td>\n",
       "      <td>[International, Referring, , United States, NA...</td>\n",
       "      <td>Al-Monitor</td>\n",
       "      <td></td>\n",
       "      <td>Ben Caspit\\n  \\n\\n  \\n          @BenCaspit</td>\n",
       "      <td></td>\n",
       "      <td>Pfizer CEO Albert Bourla couldn't have dreamed...</td>\n",
       "      <td></td>\n",
       "      <td></td>\n",
       "      <td>http://www.timesofisrael.com/pfizer-ceo-postpo...</td>\n",
       "      <td>Times of Israel</td>\n",
       "    </tr>\n",
       "    <tr>\n",
       "      <th>42600</th>\n",
       "      <td>9c962cc3-5789-58b1-bb48-759c9e235bf6_163766583...</td>\n",
       "      <td>https://www.al-monitor.com/afp/2017/02/israel-...</td>\n",
       "      <td>[2425ef51-6da9-5af7-991a-0526c0f44c37_16376316...</td>\n",
       "      <td>1</td>\n",
       "      <td>article</td>\n",
       "      <td>Al-Monitor</td>\n",
       "      <td>[International, Referring, , United States, NA...</td>\n",
       "      <td>Al-Monitor</td>\n",
       "      <td></td>\n",
       "      <td>Ben Caspit\\n  \\n\\n  \\n          @BenCaspit</td>\n",
       "      <td></td>\n",
       "      <td>Pfizer CEO Albert Bourla couldn't have dreamed...</td>\n",
       "      <td></td>\n",
       "      <td></td>\n",
       "      <td>https://www.timesofisrael.com/poll-signals-sli...</td>\n",
       "      <td>Times of Israel</td>\n",
       "    </tr>\n",
       "    <tr>\n",
       "      <th>13580</th>\n",
       "      <td>95b56142-e940-55c7-abde-10e5a263091e_163769689...</td>\n",
       "      <td>https://www.al-monitor.com/afp/2017/04/israel-...</td>\n",
       "      <td>[878c1817-9820-51b2-9c85-ab5b258338d3_16376616...</td>\n",
       "      <td>1</td>\n",
       "      <td>article</td>\n",
       "      <td>Al-Monitor</td>\n",
       "      <td>[International, Referring, , United States, NA...</td>\n",
       "      <td>Al-Monitor</td>\n",
       "      <td></td>\n",
       "      <td>Shlomi Eldar\\n  \\n\\n  \\n          @@shlomieldar</td>\n",
       "      <td></td>\n",
       "      <td>Mohammed Dahlan is known for his expertise in ...</td>\n",
       "      <td></td>\n",
       "      <td></td>\n",
       "      <td>https://www.jpost.com/Israel-News/Report-Mike-...</td>\n",
       "      <td>Jerusalem Post</td>\n",
       "    </tr>\n",
       "    <tr>\n",
       "      <th>...</th>\n",
       "      <td>...</td>\n",
       "      <td>...</td>\n",
       "      <td>...</td>\n",
       "      <td>...</td>\n",
       "      <td>...</td>\n",
       "      <td>...</td>\n",
       "      <td>...</td>\n",
       "      <td>...</td>\n",
       "      <td>...</td>\n",
       "      <td>...</td>\n",
       "      <td>...</td>\n",
       "      <td>...</td>\n",
       "      <td>...</td>\n",
       "      <td>...</td>\n",
       "      <td>...</td>\n",
       "      <td>...</td>\n",
       "    </tr>\n",
       "    <tr>\n",
       "      <th>59166</th>\n",
       "      <td>e2713c54-dfbd-51ab-9f27-06d3988f0b65_163813822...</td>\n",
       "      <td>https://www.al-monitor.com/usa?_wrapper_format...</td>\n",
       "      <td>[69eb8ee6-a5ac-5072-b97d-3aaa6114bc45_16381382...</td>\n",
       "      <td>1</td>\n",
       "      <td>article</td>\n",
       "      <td>Al-Monitor</td>\n",
       "      <td>[International, Referring, , United States, NA...</td>\n",
       "      <td>Al-Monitor</td>\n",
       "      <td></td>\n",
       "      <td>Marian Houk\\n  \\n\\n  \\n          @@Marianhouk</td>\n",
       "      <td>2021-12-02T12:00:00.000Z</td>\n",
       "      <td>It was a significant step, as Palestinian Pres...</td>\n",
       "      <td></td>\n",
       "      <td></td>\n",
       "      <td>['Wafa', 'Palestinian News and Info Agency']</td>\n",
       "      <td>Wafa (Palestinian News and Info Agency) - English</td>\n",
       "    </tr>\n",
       "    <tr>\n",
       "      <th>59191</th>\n",
       "      <td>205e15e4-82f2-54c2-8baf-ed97d1a45b23_163796633...</td>\n",
       "      <td>https://www.al-monitor.com/usa?_wrapper_format...</td>\n",
       "      <td>[dfd0b5cc-9465-533b-85ae-5d71d98c159d_16379656...</td>\n",
       "      <td>1</td>\n",
       "      <td>article</td>\n",
       "      <td>Al-Monitor</td>\n",
       "      <td>[International, Referring, , United States, NA...</td>\n",
       "      <td>Al-Monitor</td>\n",
       "      <td></td>\n",
       "      <td>Jared Szuba | United Arab Emirates | Nov 20, 2021</td>\n",
       "      <td>2021-12-02T12:00:00.000Z</td>\n",
       "      <td>\\n      \\n            \\n    \\n  \\n  \\n  \\n\\n  ...</td>\n",
       "      <td></td>\n",
       "      <td></td>\n",
       "      <td>['Ynet', 'Yediot', 'Yedioth', 'ynetnews']</td>\n",
       "      <td>Ynet - English</td>\n",
       "    </tr>\n",
       "    <tr>\n",
       "      <th>58769</th>\n",
       "      <td>dd206b12-f867-5158-aa77-b4697c220c76_163805034...</td>\n",
       "      <td>https://www.al-monitor.com/usa?_wrapper_format...</td>\n",
       "      <td>[cf654430-b1fe-528f-8135-1e82abba41f6_16380500...</td>\n",
       "      <td>1</td>\n",
       "      <td>article</td>\n",
       "      <td>Al-Monitor</td>\n",
       "      <td>[International, Referring, , United States, NA...</td>\n",
       "      <td>Al-Monitor</td>\n",
       "      <td></td>\n",
       "      <td>-</td>\n",
       "      <td>2021-12-02T12:00:00.000Z</td>\n",
       "      <td>אולי אין זה אלא מקרה, אך קו שחור עבה עובר בין ...</td>\n",
       "      <td></td>\n",
       "      <td></td>\n",
       "      <td>['הארץ']</td>\n",
       "      <td>Haaretz - Hebrew</td>\n",
       "    </tr>\n",
       "    <tr>\n",
       "      <th>58857</th>\n",
       "      <td>5550f771-f992-5ca7-b558-c50b4986a6bb_163805083...</td>\n",
       "      <td>https://www.al-monitor.com/usa?_wrapper_format...</td>\n",
       "      <td>[f8dadac1-e411-5b30-af85-de3b4561ff0d_16380505...</td>\n",
       "      <td>1</td>\n",
       "      <td>article</td>\n",
       "      <td>Al-Monitor</td>\n",
       "      <td>[International, Referring, , United States, NA...</td>\n",
       "      <td>Al-Monitor</td>\n",
       "      <td></td>\n",
       "      <td>Jared Szuba | United Arab Emirates | Nov 20, 2021</td>\n",
       "      <td>2021-12-02T12:00:00.000Z</td>\n",
       "      <td>\\n      \\n            \\n    \\n  \\n  \\n  \\n\\n  ...</td>\n",
       "      <td></td>\n",
       "      <td></td>\n",
       "      <td>['Israel Hayom', 'IsraelHayom']</td>\n",
       "      <td>Israel Hayom - English</td>\n",
       "    </tr>\n",
       "    <tr>\n",
       "      <th>58530</th>\n",
       "      <td>603fa28a-dcc6-55a6-895a-831fe4a10080_163788556...</td>\n",
       "      <td>https://www.al-monitor.com/week-in-review?_wra...</td>\n",
       "      <td>[b5690bdd-b4ee-5dfe-a010-94d2bbb77874_16378827...</td>\n",
       "      <td>1</td>\n",
       "      <td>article</td>\n",
       "      <td>Al-Monitor</td>\n",
       "      <td>[International, Referring, , United States, NA...</td>\n",
       "      <td>Al-Monitor</td>\n",
       "      <td></td>\n",
       "      <td>Akiva Eldar | Israel | Feb 21, 2019</td>\n",
       "      <td>2038-01-19T12:00:00.000Z</td>\n",
       "      <td>\\n      \\n              \\n      \\n      \\n\\n\\n...</td>\n",
       "      <td></td>\n",
       "      <td></td>\n",
       "      <td>['Haaretz', \"Ha'aretz\"]</td>\n",
       "      <td>Haaretz - English</td>\n",
       "    </tr>\n",
       "  </tbody>\n",
       "</table>\n",
       "<p>59237 rows × 16 columns</p>\n",
       "</div>"
      ],
      "text/plain": [
       "                                                      id  \\\n",
       "42603  9c962cc3-5789-58b1-bb48-759c9e235bf6_163766583...   \n",
       "42602  9c962cc3-5789-58b1-bb48-759c9e235bf6_163766583...   \n",
       "42601  9c962cc3-5789-58b1-bb48-759c9e235bf6_163766583...   \n",
       "42600  9c962cc3-5789-58b1-bb48-759c9e235bf6_163766583...   \n",
       "13580  95b56142-e940-55c7-abde-10e5a263091e_163769689...   \n",
       "...                                                  ...   \n",
       "59166  e2713c54-dfbd-51ab-9f27-06d3988f0b65_163813822...   \n",
       "59191  205e15e4-82f2-54c2-8baf-ed97d1a45b23_163796633...   \n",
       "58769  dd206b12-f867-5158-aa77-b4697c220c76_163805034...   \n",
       "58857  5550f771-f992-5ca7-b558-c50b4986a6bb_163805083...   \n",
       "58530  603fa28a-dcc6-55a6-895a-831fe4a10080_163788556...   \n",
       "\n",
       "                                       url or alias text  \\\n",
       "42603  https://www.al-monitor.com/afp/2017/02/israel-...   \n",
       "42602  https://www.al-monitor.com/afp/2017/02/israel-...   \n",
       "42601  https://www.al-monitor.com/afp/2017/02/israel-...   \n",
       "42600  https://www.al-monitor.com/afp/2017/02/israel-...   \n",
       "13580  https://www.al-monitor.com/afp/2017/04/israel-...   \n",
       "...                                                  ...   \n",
       "59166  https://www.al-monitor.com/usa?_wrapper_format...   \n",
       "59191  https://www.al-monitor.com/usa?_wrapper_format...   \n",
       "58769  https://www.al-monitor.com/usa?_wrapper_format...   \n",
       "58857  https://www.al-monitor.com/usa?_wrapper_format...   \n",
       "58530  https://www.al-monitor.com/week-in-review?_wra...   \n",
       "\n",
       "                                     referring record id number of referrals  \\\n",
       "42603  [2425ef51-6da9-5af7-991a-0526c0f44c37_16376316...                   1   \n",
       "42602  [2425ef51-6da9-5af7-991a-0526c0f44c37_16376316...                   1   \n",
       "42601  [2425ef51-6da9-5af7-991a-0526c0f44c37_16376316...                   1   \n",
       "42600  [2425ef51-6da9-5af7-991a-0526c0f44c37_16376316...                   1   \n",
       "13580  [878c1817-9820-51b2-9c85-ab5b258338d3_16376616...                   1   \n",
       "...                                                  ...                 ...   \n",
       "59166  [69eb8ee6-a5ac-5072-b97d-3aaa6114bc45_16381382...                   1   \n",
       "59191  [dfd0b5cc-9465-533b-85ae-5d71d98c159d_16379656...                   1   \n",
       "58769  [cf654430-b1fe-528f-8135-1e82abba41f6_16380500...                   1   \n",
       "58857  [f8dadac1-e411-5b30-af85-de3b4561ff0d_16380505...                   1   \n",
       "58530  [b5690bdd-b4ee-5dfe-a010-94d2bbb77874_16378827...                   1   \n",
       "\n",
       "          type associated publisher  \\\n",
       "42603  article           Al-Monitor   \n",
       "42602  article           Al-Monitor   \n",
       "42601  article           Al-Monitor   \n",
       "42600  article           Al-Monitor   \n",
       "13580  article           Al-Monitor   \n",
       "...        ...                  ...   \n",
       "59166  article           Al-Monitor   \n",
       "59191  article           Al-Monitor   \n",
       "58769  article           Al-Monitor   \n",
       "58857  article           Al-Monitor   \n",
       "58530  article           Al-Monitor   \n",
       "\n",
       "                                                    tags  name/title language  \\\n",
       "42603  [International, Referring, , United States, NA...  Al-Monitor            \n",
       "42602  [International, Referring, , United States, NA...  Al-Monitor            \n",
       "42601  [International, Referring, , United States, NA...  Al-Monitor            \n",
       "42600  [International, Referring, , United States, NA...  Al-Monitor            \n",
       "13580  [International, Referring, , United States, NA...  Al-Monitor            \n",
       "...                                                  ...         ...      ...   \n",
       "59166  [International, Referring, , United States, NA...  Al-Monitor            \n",
       "59191  [International, Referring, , United States, NA...  Al-Monitor            \n",
       "58769  [International, Referring, , United States, NA...  Al-Monitor            \n",
       "58857  [International, Referring, , United States, NA...  Al-Monitor            \n",
       "58530  [International, Referring, , United States, NA...  Al-Monitor            \n",
       "\n",
       "                                                 authors  \\\n",
       "42603         Ben Caspit\\n  \\n\\n  \\n          @BenCaspit   \n",
       "42602         Ben Caspit\\n  \\n\\n  \\n          @BenCaspit   \n",
       "42601         Ben Caspit\\n  \\n\\n  \\n          @BenCaspit   \n",
       "42600         Ben Caspit\\n  \\n\\n  \\n          @BenCaspit   \n",
       "13580    Shlomi Eldar\\n  \\n\\n  \\n          @@shlomieldar   \n",
       "...                                                  ...   \n",
       "59166      Marian Houk\\n  \\n\\n  \\n          @@Marianhouk   \n",
       "59191  Jared Szuba | United Arab Emirates | Nov 20, 2021   \n",
       "58769                                                  -   \n",
       "58857  Jared Szuba | United Arab Emirates | Nov 20, 2021   \n",
       "58530                Akiva Eldar | Israel | Feb 21, 2019   \n",
       "\n",
       "            date of publication  \\\n",
       "42603                             \n",
       "42602                             \n",
       "42601                             \n",
       "42600                             \n",
       "13580                             \n",
       "...                         ...   \n",
       "59166  2021-12-02T12:00:00.000Z   \n",
       "59191  2021-12-02T12:00:00.000Z   \n",
       "58769  2021-12-02T12:00:00.000Z   \n",
       "58857  2021-12-02T12:00:00.000Z   \n",
       "58530  2038-01-19T12:00:00.000Z   \n",
       "\n",
       "                                              plain text image reference  \\\n",
       "42603  Pfizer CEO Albert Bourla couldn't have dreamed...                   \n",
       "42602  Pfizer CEO Albert Bourla couldn't have dreamed...                   \n",
       "42601  Pfizer CEO Albert Bourla couldn't have dreamed...                   \n",
       "42600  Pfizer CEO Albert Bourla couldn't have dreamed...                   \n",
       "13580  Mohammed Dahlan is known for his expertise in ...                   \n",
       "...                                                  ...             ...   \n",
       "59166  It was a significant step, as Palestinian Pres...                   \n",
       "59191  \\n      \\n            \\n    \\n  \\n  \\n  \\n\\n  ...                   \n",
       "58769  אולי אין זה אלא מקרה, אך קו שחור עבה עובר בין ...                   \n",
       "58857  \\n      \\n            \\n    \\n  \\n  \\n  \\n\\n  ...                   \n",
       "58530  \\n      \\n              \\n      \\n      \\n\\n\\n...                   \n",
       "\n",
       "      anchor text                         Citation url or text alias  \\\n",
       "42603              https://www.timesofisrael.com/negative-tests-w...   \n",
       "42602              http://www.timesofisrael.com/netanyahu-on-covi...   \n",
       "42601              http://www.timesofisrael.com/pfizer-ceo-postpo...   \n",
       "42600              https://www.timesofisrael.com/poll-signals-sli...   \n",
       "13580              https://www.jpost.com/Israel-News/Report-Mike-...   \n",
       "...           ...                                                ...   \n",
       "59166                   ['Wafa', 'Palestinian News and Info Agency']   \n",
       "59191                      ['Ynet', 'Yediot', 'Yedioth', 'ynetnews']   \n",
       "58769                                                       ['הארץ']   \n",
       "58857                                ['Israel Hayom', 'IsraelHayom']   \n",
       "58530                                        ['Haaretz', \"Ha'aretz\"]   \n",
       "\n",
       "                                     Citation name/title  \n",
       "42603                                    Times of Israel  \n",
       "42602                                    Times of Israel  \n",
       "42601                                    Times of Israel  \n",
       "42600                                    Times of Israel  \n",
       "13580                                     Jerusalem Post  \n",
       "...                                                  ...  \n",
       "59166  Wafa (Palestinian News and Info Agency) - English  \n",
       "59191                                     Ynet - English  \n",
       "58769                                   Haaretz - Hebrew  \n",
       "58857                             Israel Hayom - English  \n",
       "58530                                  Haaretz - English  \n",
       "\n",
       "[59237 rows x 16 columns]"
      ]
     },
     "execution_count": 55,
     "metadata": {},
     "output_type": "execute_result"
    }
   ],
   "source": [
    "merged_final"
   ]
  },
  {
   "cell_type": "markdown",
   "id": "4ad65872-7bca-4408-a9b3-e5081e6f6f73",
   "metadata": {},
   "source": [
    "# Output\n",
    "- output is found in `/juputer_notebooks/csv_processing/csv_output/`\n",
    "- panadas can export to different formats (csv, json excel)\n",
    "- remove old output file if they are no longer needed"
   ]
  },
  {
   "cell_type": "markdown",
   "id": "b2836708-4cf0-4166-98ba-27243b894261",
   "metadata": {},
   "source": [
    "Export to excel"
   ]
  },
  {
   "cell_type": "code",
   "execution_count": 56,
   "id": "872f4ca1-1473-45b7-967e-0d1b9f00d11c",
   "metadata": {},
   "outputs": [],
   "source": [
    "date_string = datetime.now().strftime(\"%Y_%m_%d\")"
   ]
  },
  {
   "cell_type": "code",
   "execution_count": 57,
   "id": "2b2969db-ad60-4a91-8238-1db97f904dc1",
   "metadata": {},
   "outputs": [],
   "source": [
    "OUTPUT_SEPERATE_ROWS_PATH = \"./csv_output/almontior_seperate_rows_\""
   ]
  },
  {
   "cell_type": "code",
   "execution_count": null,
   "id": "d70b43d7-176c-48e1-b238-450aeb264981",
   "metadata": {},
   "outputs": [],
   "source": [
    "OUTPUT_AGG_PATH = './csv_output/almonitor_agg_one_row_'"
   ]
  },
  {
   "cell_type": "code",
   "execution_count": null,
   "id": "836b423f-2790-40fd-b2e4-d0f513a00003",
   "metadata": {},
   "outputs": [],
   "source": [
    "merged_final.to_excel(OUTPUT_SEPERATE_ROWS_PATH+date_string+'.xlsx')"
   ]
  },
  {
   "cell_type": "code",
   "execution_count": null,
   "id": "6e7c7b46-71b5-4b5f-984b-5d496ac3154a",
   "metadata": {},
   "outputs": [],
   "source": [
    "result[filt_nan_citation].to_excel(OUTPUT_AGG_PATH+date_string+'.xlsx')"
   ]
  },
  {
   "cell_type": "code",
   "execution_count": null,
   "id": "9f8f869d-c20f-4d75-b573-8c14b80938e2",
   "metadata": {},
   "outputs": [],
   "source": []
  }
 ],
 "metadata": {
  "kernelspec": {
   "display_name": "Python 3",
   "language": "python",
   "name": "python3"
  },
  "language_info": {
   "codemirror_mode": {
    "name": "ipython",
    "version": 3
   },
   "file_extension": ".py",
   "mimetype": "text/x-python",
   "name": "python",
   "nbconvert_exporter": "python",
   "pygments_lexer": "ipython3",
   "version": "3.6.9"
  }
 },
 "nbformat": 4,
 "nbformat_minor": 5
}

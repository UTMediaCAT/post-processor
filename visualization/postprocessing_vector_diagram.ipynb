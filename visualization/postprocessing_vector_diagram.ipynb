{
 "cells": [
  {
   "cell_type": "code",
   "execution_count": null,
   "metadata": {},
   "outputs": [],
   "source": [
    "publishers_type = 'Journalist' \n",
    "input_file_name = './kpp.csv'"
   ]
  },
  {
   "cell_type": "code",
   "execution_count": null,
   "metadata": {},
   "outputs": [],
   "source": [
    "import pandas as pd\n",
    "import matplotlib.pyplot as plt\n",
    "import ast\n",
    "import tldextract\n",
    "import numpy as np\n",
    "from d3graph import d3graph, vec2adjmat"
   ]
  },
  {
   "cell_type": "code",
   "execution_count": null,
   "metadata": {},
   "outputs": [],
   "source": [
    "scope_df = pd.read_csv('./citation_scope.csv')\n",
    "node_list = list(scope_df.loc[scope_df['Tag: type'] == publishers_type].Name.values)\n",
    "node_list.sort()\n",
    "node_list = list(set(node_list))\n",
    "node_list"
   ]
  },
  {
   "cell_type": "code",
   "execution_count": null,
   "metadata": {},
   "outputs": [],
   "source": [
    "crawl_scope = pd.read_csv('./crawl_scope.csv')\n",
    "crawl_scope.fillna('', inplace=True)\n",
    "crawl_list1 = list(set(crawl_scope.loc[crawl_scope['Tag: type'] == publishers_type][\"Twitter Handle\"].values))\n",
    "crawl_list2 = list(set(crawl_scope.loc[crawl_scope['Tag: type'] == publishers_type][\"Name\"].values))\n",
    "crawl_list = crawl_list1 + crawl_list2\n",
    "crawl_list"
   ]
  },
  {
   "cell_type": "code",
   "execution_count": null,
   "metadata": {},
   "outputs": [],
   "source": [
    "node_list = node_list + crawl_list\n",
    "for i in range(len(node_list)):\n",
    "    node_list[i] = node_list[i].strip()\n",
    "node_list"
   ]
  },
  {
   "cell_type": "code",
   "execution_count": null,
   "metadata": {},
   "outputs": [],
   "source": [
    "# read the postprocessed data file (.csv) as a pandas dataframe\n",
    "with open(input_file_name, encoding='utf-8', newline='') as f:\n",
    "    df_raw = pd.read_csv(input_file_name)\n",
    "\n",
    "# set the IDs as indices\n",
    "df_raw.set_index('id', inplace=True)"
   ]
  },
  {
   "cell_type": "code",
   "execution_count": null,
   "metadata": {},
   "outputs": [],
   "source": [
    "'Amnesty International' in node_list\n",
    "'@hrw' in node_list"
   ]
  },
  {
   "cell_type": "code",
   "execution_count": null,
   "metadata": {},
   "outputs": [],
   "source": [
    "df_raw.head()"
   ]
  },
  {
   "cell_type": "code",
   "execution_count": null,
   "metadata": {},
   "outputs": [],
   "source": [
    "def find_referral_relation(df, node_list):\n",
    "    referral_relation = {}\n",
    "    for index, row in df.iterrows():\n",
    "        citation_names = ast.literal_eval(row['citation name'])\n",
    "        if row[\"type\"] != \"twitter\":\n",
    "                domain = tldextract.extract(row[\"url\"])[1]\n",
    "        else:\n",
    "            domain = \"@\" + row[\"url\"].split(\"/\")[3]\n",
    "        for citation_name in citation_names:\n",
    "            if citation_name.strip() in node_list and domain.strip() in node_list:\n",
    "                if citation_name != domain:\n",
    "                    if (domain, citation_name) in referral_relation:\n",
    "                        referral_relation[(domain, citation_name)] += 1\n",
    "                    else:\n",
    "                        referral_relation[(domain, citation_name)] = 1\n",
    "                \n",
    "    return referral_relation"
   ]
  },
  {
   "cell_type": "code",
   "execution_count": null,
   "metadata": {},
   "outputs": [],
   "source": [
    "find_referral_relation(df_raw.head(), node_list)"
   ]
  },
  {
   "cell_type": "code",
   "execution_count": null,
   "metadata": {},
   "outputs": [],
   "source": [
    "referral_relation = find_referral_relation(df_raw, node_list)\n",
    "referral_relation"
   ]
  },
  {
   "cell_type": "code",
   "execution_count": null,
   "metadata": {},
   "outputs": [],
   "source": [
    "source = []\n",
    "target = []\n",
    "weight = []\n",
    "for key, value in referral_relation.items():\n",
    "    source.append(key[0])\n",
    "    target.append(key[1])\n",
    "    weight.append(value)\n",
    "\n",
    "adjmat = vec2adjmat(source, target, weight=weight)\n",
    "adjmat"
   ]
  },
  {
   "cell_type": "code",
   "execution_count": null,
   "metadata": {},
   "outputs": [],
   "source": [
    "d3 = d3graph()\n",
    "d3.graph(adjmat)\n",
    "# size = [10,20,10,10,15,10,5]\n",
    "d3.set_edge_properties(directed=True)\n",
    "# d3.set_node_properties(color=adjmat.columns.values, size=size, edge_size=size, edge_color='#000FFF', cmap='Set1')\n",
    "d3.set_node_properties(color=adjmat.columns.values,edge_color='#000FFF', cmap='Set1')\n",
    "d3.show(filepath=\"../\" + publishers_type + \".html\", title = publishers_type)"
   ]
  }
 ],
 "metadata": {
  "kernelspec": {
   "display_name": "Python 3.8.2 64-bit",
   "language": "python",
   "name": "python3"
  },
  "language_info": {
   "codemirror_mode": {
    "name": "ipython",
    "version": 3
   },
   "file_extension": ".py",
   "mimetype": "text/x-python",
   "name": "python",
   "nbconvert_exporter": "python",
   "pygments_lexer": "ipython3",
   "version": "3.6.9"
  },
  "orig_nbformat": 4,
  "vscode": {
   "interpreter": {
    "hash": "31f2aee4e71d21fbe5cf8b01ff0e069b9275f58929596ceb00d14d90e3e16cd6"
   }
  }
 },
 "nbformat": 4,
 "nbformat_minor": 2
}

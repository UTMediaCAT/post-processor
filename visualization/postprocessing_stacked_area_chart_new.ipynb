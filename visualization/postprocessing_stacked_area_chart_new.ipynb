{
 "cells": [
  {
   "cell_type": "markdown",
   "metadata": {},
   "source": [
    "# Note\n",
    "This needs to be refactored to work with new csv processor"
   ]
  },
  {
   "cell_type": "code",
   "execution_count": null,
   "metadata": {},
   "outputs": [],
   "source": [
    "publishers_type = 'Think_Tank' \n",
    "Start_time = '2013' # must be 'yyyy' or 'yyyy-mm'\n",
    "End_time = '2022'\n",
    "feild = 'citation name'  # 'domain' or 'citation name'\n",
    "input_file_name = './kpp.csv'"
   ]
  },
  {
   "cell_type": "markdown",
   "metadata": {},
   "source": [
    "#### This code draws a stacked area graph that shows how many times Palestine Chronicle, Times of Israel, and Jerusalem Post have been referred by the media/journalists in the input scope over the past three years (2018, 2019, 2020) based on an imaginary sample data file produced by the postprocessor."
   ]
  },
  {
   "cell_type": "code",
   "execution_count": null,
   "metadata": {},
   "outputs": [],
   "source": [
    "import pandas as pd\n",
    "import matplotlib.pyplot as plt\n",
    "import ast"
   ]
  },
  {
   "cell_type": "markdown",
   "metadata": {},
   "source": [
    "#### We could focus on a different set of sources we are interested in and a different period of times by modifying area_list and time_list defined below."
   ]
  },
  {
   "cell_type": "code",
   "execution_count": null,
   "metadata": {},
   "outputs": [],
   "source": [
    "# test_list_associated_publishers = ['972Mag', 'Times of Israel', 'Jerusalem Post','Haaretz','Arutz 7','Israel Hayom','Ynet']\n",
    "scope_df = pd.read_csv('./citation_scope.csv')\n",
    "area_list = list(scope_df.loc[scope_df['Tag: type'] == publishers_type].Name.values)\n",
    "area_list = list(set(area_list))\n",
    "area_list"
   ]
  },
  {
   "cell_type": "code",
   "execution_count": null,
   "metadata": {},
   "outputs": [],
   "source": [
    "def create_month_list(start_year_month, end_year_month):\n",
    "    start_year, start_month = map(lambda x: int(x), start_year_month.split(\"-\"))\n",
    "    end_year, end_month = map(lambda x: int(x), end_year_month.split(\"-\"))\n",
    "    time_list = []\n",
    "    for year in range(start_year, end_year+1):\n",
    "        for month in range(1, 13):\n",
    "            str_month = str(month) if month > 9 else '0' + str(month)\n",
    "            if (year not in [start_year, end_year]):\n",
    "                time_list.append(str(year) + '-' + str_month)\n",
    "            elif (year == start_year and month >= start_month):\n",
    "                time_list.append(str(year) + '-' + str_month)\n",
    "            elif (year == end_year and month <= end_month):\n",
    "                time_list.append(str(year) + '-' + str_month)\n",
    "    return time_list\n",
    "\n",
    "if (len(Start_time) == 4):\n",
    "    time_list = [str(i) for i in list(range(int(Start_time), int(End_time)+1))]\n",
    "else:\n",
    "    time_list = create_month_list(Start_time, End_time)"
   ]
  },
  {
   "cell_type": "code",
   "execution_count": null,
   "metadata": {},
   "outputs": [],
   "source": [
    "def convert_list_variables(df, list_col_names):\n",
    "    '''\n",
    "    Convert the column values that are lists but stored as strings\n",
    "    into Python list types, based on the assumption that the format of a list looks like:\n",
    "    [96adf8g9200534sf91134465, 13203fs572f502d42957dsf313]\n",
    "    \n",
    "    Parameters\n",
    "    --------\n",
    "    df: pandas dataframe\n",
    "    list_col_names: list\n",
    "                    The list of the column names\n",
    "    '''\n",
    "    for index, row in df.iterrows():\n",
    "        for col_name in list_col_names:\n",
    "            if pd.notnull(row[col_name]):\n",
    "                print([index, col_name])\n",
    "                print(row[col_name][:-1].split(\" \"))\n",
    "                df.at[index, col_name] = row[col_name][:-1].split(\" \")\n",
    "                "
   ]
  },
  {
   "cell_type": "markdown",
   "metadata": {},
   "source": [
    "#### The time when a source was referred is recorded based on the date of publication on which the referring article/tweet was published. e.g., If a NYT article published in 2020 refers to a Times of Israel article published in 2019, the referral is counted for 2020, not 2019."
   ]
  },
  {
   "cell_type": "code",
   "execution_count": null,
   "metadata": {},
   "outputs": [],
   "source": [
    "def record_number_of_references_each_in_list(df, time_interval, column_name, column_value):\n",
    "    '''\n",
    "    Record the number of references of sources with a specific characteristic\n",
    "    (e.g., sources whose 'associated publisher' is 'Times of Israel')\n",
    "    \n",
    "    Parameters\n",
    "    --------\n",
    "    df: pandas dataframe\n",
    "        data read as pandas dataframe from the postprocessed .csv file\n",
    "    time_interval: string\n",
    "                   'month' or 'year'\n",
    "    column_name: string\n",
    "                 column name to focus on. e.g., 'associated publisher'\n",
    "    column_value: string\n",
    "                  column value for a specific source. e.g., 'Times of Israel'\n",
    "                  \n",
    "    Return\n",
    "    --------\n",
    "    date_dic: dictionary (key:time, value:the number of references)\n",
    "    '''\n",
    "    date_dic = {}\n",
    "    \n",
    "    # for each source in the area category\n",
    "    for index, row in df.iterrows():\n",
    "        # record the publication date of each referring article/tweet\n",
    "        if row[column_name] != '[]':\n",
    "            citation_names = ast.literal_eval(row[column_name])\n",
    "            for citaion in citation_names:\n",
    "                if citaion == column_value:\n",
    "                    if time_interval == 'year':\n",
    "                        # if pd.notnull(df.at[referring_id, 'date of publication']):\n",
    "                        if type(row['date of publication']) is str:\n",
    "                            year = row['date of publication'][:4]\n",
    "                            if type(year) is str:\n",
    "                                if year not in date_dic:\n",
    "                                    date_dic[year] = 1\n",
    "                                else:\n",
    "                                    date_dic[year] += 1\n",
    "                    if time_interval == 'month':\n",
    "                        # if pd.notnull(df.at[referring_id, 'date of publication']):\n",
    "                        year_month = row['date of publication'][:7]\n",
    "                        if type(year_month) is str:\n",
    "                            if year_month not in date_dic:\n",
    "                                date_dic[year_month] = 1\n",
    "                            else:\n",
    "                                date_dic[year_month] += 1\n",
    "    return date_dic"
   ]
  },
  {
   "cell_type": "code",
   "execution_count": null,
   "metadata": {},
   "outputs": [],
   "source": [
    "def record_number_of_references_each_in_value(df, time_interval, column_name, column_value):\n",
    "    '''\n",
    "    Record the number of references of sources with a specific characteristic\n",
    "    (e.g., sources whose 'associated publisher' is 'Times of Israel')\n",
    "    \n",
    "    Parameters\n",
    "    --------\n",
    "    df: pandas dataframe\n",
    "        data read as pandas dataframe from the postprocessed .csv file\n",
    "    time_interval: string\n",
    "                   'month' or 'year'\n",
    "    column_name: string\n",
    "                 column name to focus on. e.g., 'associated publisher'\n",
    "    column_value: string\n",
    "                  column value for a specific source. e.g., 'Times of Israel'\n",
    "                  \n",
    "    Return\n",
    "    --------\n",
    "    date_dic: dictionary (key:time, value:the number of references)\n",
    "    '''\n",
    "    date_dic = {}\n",
    "    \n",
    "    # for each source in the area category\n",
    "    for index, row in df.loc[df[column_name] == column_value].iterrows():\n",
    "        # record the publication date of each referring article/tweet\n",
    "            if time_interval == 'year':\n",
    "                # if pd.notnull(df.at[referring_id, 'date of publication']):\n",
    "                if type(row['date of publication']) is str:\n",
    "                    year = row['date of publication'][:4]\n",
    "                    if type(year) is str:\n",
    "                        if year not in date_dic:\n",
    "                            date_dic[year] = 1\n",
    "                        else:\n",
    "                            date_dic[year] += 1\n",
    "            if time_interval == 'month':\n",
    "                # if pd.notnull(df.at[referring_id, 'date of publication']):\n",
    "                year_month = row['date of publication'][:7]\n",
    "                if type(year_month) is str:\n",
    "                    if year_month not in date_dic:\n",
    "                        date_dic[year_month] = 1\n",
    "                    else:\n",
    "                        date_dic[year_month] += 1\n",
    "    return date_dic"
   ]
  },
  {
   "cell_type": "code",
   "execution_count": null,
   "metadata": {},
   "outputs": [],
   "source": [
    "def record_number_of_references(df, time_interval, time_list, column_name, area_list, is_list):\n",
    "    '''\n",
    "    Record the number of references of sources with specific characteristics\n",
    "    (e.g., sources whose 'associated publisher' is 'Times of Israel',\n",
    "    those whose 'associated publisher' is 'Palestine Chronicle',\n",
    "    and those whose 'associated publisher' is 'Jerusalem Post')\n",
    "    \n",
    "    Parameters\n",
    "    --------\n",
    "    df: pandas dataframe\n",
    "        data read as pandas dataframe from the postprocessed .csv file\n",
    "    time_interval: string\n",
    "                   'month' or 'year'\n",
    "    column_name: string\n",
    "                 column name to focus on. e.g., 'associate publisher'\n",
    "    area_list: list\n",
    "               a list of column value of interest\n",
    "               e.g., ['Palestine Chronicle', 'Times of Israel', 'Jerusalem Post']\n",
    "                  \n",
    "    Return\n",
    "    --------\n",
    "    a pandas dataframe with time points (e.g., 2018, 2019, 2020) as indices and\n",
    "    area names (e.g., 'Palestine Chronicle', 'Times of Israel', 'Jerusalem Post')\n",
    "    as column labels\n",
    "    '''\n",
    "    data_all_area_list = []\n",
    "    \n",
    "    # for each area category\n",
    "    for column_value in area_list:\n",
    "        # date of reference for the area\n",
    "        if is_list:\n",
    "            data_each_area = record_number_of_references_each_in_list(df, time_interval, column_name, column_value)\n",
    "        else:\n",
    "            data_each_area = record_number_of_references_each_in_value(df, time_interval, column_name, column_value)\n",
    "        data_each_area_list = []\n",
    "        for time in time_list:\n",
    "            if time in data_each_area:\n",
    "                data_each_area_list.append(data_each_area[time])\n",
    "            else:\n",
    "                data_each_area_list.append(0)\n",
    "        data_all_area_list.append(data_each_area_list)\n",
    "        \n",
    "    return pd.DataFrame(list(map(list, zip(*data_all_area_list))), index=time_list, columns=area_list) "
   ]
  },
  {
   "cell_type": "code",
   "execution_count": null,
   "metadata": {},
   "outputs": [],
   "source": [
    "# read the postprocessed data file (.csv) as a pandas dataframe\n",
    "with open(input_file_name, encoding='utf-8', newline='') as f:\n",
    "    df_raw = pd.read_csv(input_file_name)\n",
    "\n",
    "# set the IDs as indices\n",
    "df_raw.set_index('id', inplace=True)\n",
    "\n",
    "# convert the list variables that are stored as strings into Python list type\n",
    "list_col_names = ['referring record id', 'tags']\n",
    "\n",
    "# convert_list_variables(df_raw, list_col_names)"
   ]
  },
  {
   "cell_type": "markdown",
   "metadata": {},
   "source": [
    "#### Below is how the imaginary sample data from the postprocessor, which I made up, looks like (I left unused cells empty):"
   ]
  },
  {
   "cell_type": "code",
   "execution_count": null,
   "metadata": {},
   "outputs": [],
   "source": [
    "df_raw.head()\n",
    "\n"
   ]
  },
  {
   "cell_type": "code",
   "execution_count": null,
   "metadata": {},
   "outputs": [],
   "source": [
    "# area_list=['Harel, Amos']\n",
    "# df = record_number_of_references(df_raw, 'year', time_list, 'citation name', area_list, True)"
   ]
  },
  {
   "cell_type": "code",
   "execution_count": null,
   "metadata": {},
   "outputs": [],
   "source": [
    "time_type = 'year' if len(Start_time) == 4 else 'month'\n",
    "is_list = True if feild == 'citation name' else False\n",
    "\n",
    "df = record_number_of_references(df_raw, 'year', time_list, 'citation name', area_list, is_list)"
   ]
  },
  {
   "cell_type": "markdown",
   "metadata": {},
   "source": [
    "#### Below is how the data behind the stacked area chart looks like:"
   ]
  },
  {
   "cell_type": "code",
   "execution_count": null,
   "metadata": {},
   "outputs": [],
   "source": [
    "ds = pd.DataFrame(df.sum())\n",
    "order = ds.sort_values(0, ascending=False)\n",
    "df = df[order.index[:10]]\n",
    "df"
   ]
  },
  {
   "cell_type": "code",
   "execution_count": null,
   "metadata": {},
   "outputs": [],
   "source": [
    "df.columns"
   ]
  },
  {
   "cell_type": "code",
   "execution_count": null,
   "metadata": {},
   "outputs": [],
   "source": [
    "plt.stackplot(time_list,\n",
    "              df.transpose(),\n",
    "              labels=df.columns,\n",
    "              alpha=0.8)\n",
    "\n",
    "plt.legend(bbox_to_anchor=(1.05, 1.0),loc='upper left', fontsize='small')\n",
    "plt.title(\"Changes in middle eastern news sources cited by Twitter\")\n",
    "plt.ylabel(\"Number of References\")\n",
    "plt.xlabel(\"Year\")\n",
    "# plt.tight_layout()\n",
    "plt.show()"
   ]
  },
  {
   "cell_type": "markdown",
   "metadata": {},
   "source": [
    "#### The data file exported as .csv file below can be used to produce a stacked area graph or graphs of similar types with other libraries/languages/tools."
   ]
  },
  {
   "cell_type": "code",
   "execution_count": null,
   "metadata": {},
   "outputs": [],
   "source": [
    "df.to_csv('data_for_stacked_area_chart.csv')  "
   ]
  }
 ],
 "metadata": {
  "kernelspec": {
   "display_name": "Python 3.8.2 64-bit",
   "language": "python",
   "name": "python3"
  },
  "language_info": {
   "codemirror_mode": {
    "name": "ipython",
    "version": 3
   },
   "file_extension": ".py",
   "mimetype": "text/x-python",
   "name": "python",
   "nbconvert_exporter": "python",
   "pygments_lexer": "ipython3",
   "version": "3.6.9"
  },
  "vscode": {
   "interpreter": {
    "hash": "31f2aee4e71d21fbe5cf8b01ff0e069b9275f58929596ceb00d14d90e3e16cd6"
   }
  }
 },
 "nbformat": 4,
 "nbformat_minor": 4
}
